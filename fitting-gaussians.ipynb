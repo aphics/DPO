{
 "cells": [
  {
   "cell_type": "code",
   "execution_count": null,
   "metadata": {},
   "outputs": [],
   "source": [
    "from scipy.optimize import minimize\n",
    "import numpy as np\n",
    "import matplotlib.pyplot as plt"
   ]
  },
  {
   "cell_type": "code",
   "execution_count": null,
   "metadata": {},
   "outputs": [],
   "source": []
  },
  {
   "cell_type": "code",
   "execution_count": null,
   "metadata": {},
   "outputs": [],
   "source": [
    "#Flujo 1\n",
    "flujo1 = [ 60.76659012,  57.62647247,  50.41750336,  49.53574753,  48.33449936,\n",
    "43.66425323,  41.04115295,  44.66896057,  50.56383896,  50.29148102,\n",
    "48.44561386,  50.44940948,  51.58250809,  59.35596085,  77.53921509,\n",
    "91.3781662 , 103.63374329, 123.92726898, 152.38206482, 170.97193909,\n",
    "178.31158447 ,201.74856567, 216.82427979, 194.56236267, 156.55189514,\n",
    "128.12651062  ,96.53326416,  70.87791443,  64.37514496,  64.37010193,\n",
    "69.20238495,  74.72666168,  73.84421539,  70.54618073,  67.37627411,\n",
    "70.02364349,  71.76290894,  70.48664093,  66.65513611,  62.97803116,\n",
    "63.47818756 , 63.48593521,  63.65970612,  65.12601471,  61.96345139,\n",
    "56.5904007  , 56.21949005]\n"
   ]
  },
  {
   "cell_type": "code",
   "execution_count": null,
   "metadata": {},
   "outputs": [],
   "source": [
    "\n",
    "#Flujo 2\n",
    "flujo2 = [ 34.51300049,  35.04608917,  33.54432678,  37.79356384,  40.9273262,\n",
    "38.60827255,  36.60696411,  39.29825211,  42.8025322,   41.11476135,\n",
    "37.01183701,  38.25086212,  39.82696915,  45.49356461,  57.84592056,\n",
    "63.74675751,  71.27405548,  90.15153503, 105.11828613, 124.74910736,\n",
    "141.62988281, 139.71665955, 122.26168823, 108.24037933, 110.01968384,\n",
    "99.83040619,  70.3952713,   55.88486481,  57.34952545,  56.50667191,\n",
    "57.90737534,  60.49988937,  54.65034103,  43.25989914,  42.46909714,\n",
    "48.96273041,  49.04454422,  48.71305084,  50.70087433,  50.2251091,\n",
    "44.70508194,  40.60639191,  40.11267853,  43.38873672,  44.70631409,\n",
    "37.76773453,  31.70433426]"
   ]
  },
  {
   "cell_type": "markdown",
   "metadata": {},
   "source": [
    " _________________________________"
   ]
  },
  {
   "cell_type": "code",
   "execution_count": null,
   "metadata": {},
   "outputs": [],
   "source": [
    "Y = flujo1\n",
    "X = np.array(range(1,len(Y)+1))"
   ]
  },
  {
   "cell_type": "code",
   "execution_count": null,
   "metadata": {},
   "outputs": [],
   "source": [
    "plt.plot(X,Y);\n",
    "plt.grid()"
   ]
  },
  {
   "cell_type": "code",
   "execution_count": null,
   "metadata": {},
   "outputs": [],
   "source": [
    "def fit_gauss(x, p):\n",
    "    A, mu, sigma, zerolev = p\n",
    "    return( A * np.exp(-(x-mu)*(x-mu)/(2.0*sigma*sigma)) + zerolev )\n",
    "\n",
    "def main_fitter(p,x,y,ngauss):\n",
    "    chi2 = 0\n",
    "\n",
    "    model = np.zeros(np.array(y).shape)\n",
    "    split_p = np.split(np.array(p),ngauss)\n",
    "\n",
    "    for g in range(ngauss):\n",
    "        gp = split_p[g]\n",
    "        model += fit_gauss(x,gp)\n",
    "\n",
    "    chi2 = sum((y-model)**2 )\n",
    "    \n",
    "    return chi2"
   ]
  },
  {
   "cell_type": "code",
   "execution_count": null,
   "metadata": {},
   "outputs": [],
   "source": [
    "# Condiciones iniciales\n",
    "\n",
    "# Amplitud, media, dispersión, offset\n",
    "N = 2\n",
    "p0 = [60, 10, 5, 25,   # Gaussiana 1\n",
    "      60, 40, 5, 25]   # Gaussiana 2"
   ]
  },
  {
   "cell_type": "code",
   "execution_count": null,
   "metadata": {
    "scrolled": true
   },
   "outputs": [],
   "source": [
    "fit = minimize(main_fitter, p0, method= 'Powell', \n",
    "    options={'maxiter':15000, 'maxfev':15000, 'disp':True, 'adaptive':True},\n",
    "    args=(X,Y,N,))\n",
    "print(f\"\\nMejor solución:\\n {fit.x}\")"
   ]
  },
  {
   "cell_type": "markdown",
   "metadata": {},
   "source": [
    "## Plot"
   ]
  },
  {
   "cell_type": "code",
   "execution_count": null,
   "metadata": {},
   "outputs": [],
   "source": [
    "def plot_total(ptot, x, N):\n",
    "    model_tot = np.zeros(np.array(x).shape)\n",
    "    split_p = np.split(np.array(ptot),N)\n",
    "    \n",
    "    for g in range(N):\n",
    "        gp =  split_p[g]\n",
    "        model_tot += fit_gauss(x,gp)\n",
    "    \n",
    "    return model_tot"
   ]
  },
  {
   "cell_type": "code",
   "execution_count": null,
   "metadata": {},
   "outputs": [],
   "source": [
    "best_fit = fit.x\n",
    "plt.plot(X,Y, label=\"data\")\n",
    "\n",
    "for g in np.split(np.array(best_fit),N):\n",
    "    plt.plot(X, fit_gauss(X,g), label='fit')\n",
    "    \n",
    "# total:\n",
    "model_tot = plot_total(best_fit,X,N)\n",
    "plt.plot(X, model_tot, color = 'k', ls='--', label='Total')\n",
    "plot_total(best_fit, X, N)\n",
    "plt.grid(); plt.legend()"
   ]
  },
  {
   "cell_type": "code",
   "execution_count": null,
   "metadata": {},
   "outputs": [],
   "source": []
  }
 ],
 "metadata": {
  "kernelspec": {
   "display_name": "Python 3",
   "language": "python",
   "name": "python3"
  },
  "language_info": {
   "codemirror_mode": {
    "name": "ipython",
    "version": 3
   },
   "file_extension": ".py",
   "mimetype": "text/x-python",
   "name": "python",
   "nbconvert_exporter": "python",
   "pygments_lexer": "ipython3",
   "version": "3.7.6"
  }
 },
 "nbformat": 4,
 "nbformat_minor": 2
}
